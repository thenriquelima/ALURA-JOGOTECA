{
  "nbformat": 4,
  "nbformat_minor": 0,
  "metadata": {
    "colab": {
      "provenance": [],
      "authorship_tag": "ABX9TyMIdoFH9jCgQu5LJeLqpk0D",
      "include_colab_link": true
    },
    "kernelspec": {
      "name": "python3",
      "display_name": "Python 3"
    },
    "language_info": {
      "name": "python"
    }
  },
  "cells": [
    {
      "cell_type": "markdown",
      "metadata": {
        "id": "view-in-github",
        "colab_type": "text"
      },
      "source": [
        "<a href=\"https://colab.research.google.com/github/thenriquelima/ALURA-JOGOTECA/blob/main/PROJETO_PYTHON_FOLHA_DE_PAGAMENTO.ipynb\" target=\"_parent\"><img src=\"https://colab.research.google.com/assets/colab-badge.svg\" alt=\"Open In Colab\"/></a>"
      ]
    },
    {
      "cell_type": "code",
      "execution_count": null,
      "metadata": {
        "id": "5YQ_i5ldoKAN"
      },
      "outputs": [],
      "source": []
    },
    {
      "cell_type": "code",
      "source": [
        "#Solicita ao usuario os dados\n",
        "valor_hora = float(input(\"Digite o valor da sua hora de trabalho: \"))\n",
        "horas_trabalhadas = float(input(\"Digite a quantidade de horas trabalhadas por mês: \"))\n",
        "\n",
        "#Calculo do salário Bruto\n",
        "salario_bruto = valor_hora * horas_trabalhadas\n",
        "\n",
        "#Calcular o desconto dim IPRF\n",
        "if salario_bruto <= 900:\n",
        "  desconto_ir = 0\n",
        "elif salario_bruto <=1500:\n",
        "  desconto_ir = salario_bruto * 0.05\n",
        "elif salario_bruto <=2500:\n",
        "  desconto_ir = salario_bruto * 0.10\n",
        "else:\n",
        "  desconto_ir = salario_bruto * 0.20\n",
        "\n",
        "#Calcular o desconto do INSS\n",
        "desconto_inss = salario_bruto * 0.10\n",
        "\n",
        "#Calcular o desconto do FGTS\n",
        "fgts = salario_bruto * 0.11\n",
        "\n",
        "#Calcular o total de descontos\n",
        "total_descontos = desconto_inss + desconto_ir +fgts\n",
        "\n",
        "#Calcular o salario liquido\n",
        "salario_liquido = salario_bruto - total_descontos\n",
        "\n",
        "#Impressao em tela\n",
        "print(f\"Salario Bruto R$ {salario_bruto:.2f}\")\n",
        "print(f\"Desconto IPRF  R$ {desconto_ir:.2f}\")\n",
        "print(f\"Desconto INSS  R$ {desconto_inss:.2f}\")\n",
        "print(f\"Desconto FGTS  R$ {fgts:.2f}\")\n",
        "print(f\"Total de Descontos   R$ {total_descontos:.2f}\")\n",
        "print(f\"Salário Líquido   R$ {salario_liquido:.2f}\")\n"
      ],
      "metadata": {
        "colab": {
          "base_uri": "https://localhost:8080/"
        },
        "id": "x6K15C9DowBv",
        "outputId": "0e4e0df7-d247-400f-e1a2-549cae0c8a76"
      },
      "execution_count": 2,
      "outputs": [
        {
          "output_type": "stream",
          "name": "stdout",
          "text": [
            "Digite o valor da sua hora de trabalho: 85\n",
            "Digite a quantidade de horas trabalhadas por mês: 20\n",
            "Salario Bruto R$ 1700.00\n",
            "Desconto IPRF  R$ 170.00\n",
            "Desconto INSS  R$ 170.00\n",
            "Desconto FGTS  R$ 187.00\n",
            "Total de Descontos   R$ 527.00\n",
            "Salário Líquido   R$ 1173.00\n"
          ]
        }
      ]
    },
    {
      "cell_type": "markdown",
      "source": [],
      "metadata": {
        "id": "EqIt4CPuowTn"
      }
    }
  ]
}